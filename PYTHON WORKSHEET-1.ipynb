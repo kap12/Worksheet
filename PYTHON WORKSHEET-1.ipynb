{
 "cells": [
  {
   "cell_type": "markdown",
   "metadata": {},
   "source": [
    "#### 11. Write a python program to find the factorial of a number."
   ]
  },
  {
   "cell_type": "code",
   "execution_count": 1,
   "metadata": {},
   "outputs": [],
   "source": [
    "def factorial(n):\n",
    "    return 1 if (n==1 or n==0) else n * factorial(n - 1);  "
   ]
  },
  {
   "cell_type": "code",
   "execution_count": 2,
   "metadata": {},
   "outputs": [
    {
     "data": {
      "text/plain": [
       "5040"
      ]
     },
     "execution_count": 2,
     "metadata": {},
     "output_type": "execute_result"
    }
   ],
   "source": [
    "factorial(7)"
   ]
  },
  {
   "cell_type": "markdown",
   "metadata": {},
   "source": [
    "#### 12. Write a python program to find whether a number is prime or composite."
   ]
  },
  {
   "cell_type": "code",
   "execution_count": 3,
   "metadata": {},
   "outputs": [],
   "source": [
    "def number():\n",
    "    num = int(input('Please Enter any Number: '))\n",
    "    if num in (0,1):\n",
    "            print('the number is neither prime nor composite')\n",
    "    elif num > 1:  \n",
    "       for i in range(2,num):  \n",
    "           if (num % i) == 0:  \n",
    "               print(num,\"is composite number\")  \n",
    "               print(i,\"times\",num//i,\"is\",num)  \n",
    "               break  \n",
    "       else:  \n",
    "           print(num,\"is a prime number\")   "
   ]
  },
  {
   "cell_type": "code",
   "execution_count": 4,
   "metadata": {},
   "outputs": [
    {
     "name": "stdout",
     "output_type": "stream",
     "text": [
      "Please Enter any Number: 11\n",
      "11 is a prime number\n"
     ]
    }
   ],
   "source": [
    "number()"
   ]
  },
  {
   "cell_type": "code",
   "execution_count": 5,
   "metadata": {},
   "outputs": [
    {
     "name": "stdout",
     "output_type": "stream",
     "text": [
      "Please Enter any Number: 12\n",
      "12 is composite number\n",
      "2 times 6 is 12\n"
     ]
    }
   ],
   "source": [
    "number()"
   ]
  },
  {
   "cell_type": "markdown",
   "metadata": {},
   "source": [
    "#### 13. Write a python program to check whether a given string is palindrome or not."
   ]
  },
  {
   "cell_type": "code",
   "execution_count": 6,
   "metadata": {},
   "outputs": [],
   "source": [
    " def palindrome():\n",
    "    my_str = (input('Please Enter any string: '))\n",
    "    my_str = my_str.casefold()\n",
    "    rev_str = reversed(my_str)\n",
    "\n",
    "\n",
    "    if list(my_str) == list(rev_str):\n",
    "       print(\"The string is a palindrome.\")\n",
    "    else:\n",
    "       print(\"The string is not a palindrome.\")"
   ]
  },
  {
   "cell_type": "code",
   "execution_count": 7,
   "metadata": {},
   "outputs": [
    {
     "name": "stdout",
     "output_type": "stream",
     "text": [
      "Please Enter any string: Nitin\n",
      "The string is a palindrome.\n"
     ]
    }
   ],
   "source": [
    "palindrome()"
   ]
  },
  {
   "cell_type": "code",
   "execution_count": 8,
   "metadata": {},
   "outputs": [
    {
     "name": "stdout",
     "output_type": "stream",
     "text": [
      "Please Enter any string: Aakash\n",
      "The string is not a palindrome.\n"
     ]
    }
   ],
   "source": [
    "palindrome()"
   ]
  },
  {
   "cell_type": "markdown",
   "metadata": {},
   "source": [
    "#### 14. Write a Python program to get the third side of right-angled triangle from two given sides."
   ]
  },
  {
   "cell_type": "code",
   "execution_count": 9,
   "metadata": {},
   "outputs": [],
   "source": [
    "import numpy as np\n",
    "def pythagoras(opposite_side,adjacent_side,hypotenuse):\n",
    "        if opposite_side == str(\"x\"):\n",
    "            return (\"Opposite = \"+str(np.sqrt((hypotenuse**2) - (adjacent_side**2))))\n",
    "        elif adjacent_side == str(\"x\"):\n",
    "            return (\"Adjacent = \"+str(np.sqrt((hypotenuse**2) - (opposite_side**2))))\n",
    "        else:\n",
    "            return (\"Hypotenuse = \"+str(np.sqrt((opposite_side**2) + (adjacent_side**2))))"
   ]
  },
  {
   "cell_type": "code",
   "execution_count": 10,
   "metadata": {},
   "outputs": [
    {
     "data": {
      "text/plain": [
       "'Hypotenuse = 5.0'"
      ]
     },
     "execution_count": 10,
     "metadata": {},
     "output_type": "execute_result"
    }
   ],
   "source": [
    "pythagoras(3,4,'x')"
   ]
  },
  {
   "cell_type": "code",
   "execution_count": 11,
   "metadata": {},
   "outputs": [
    {
     "data": {
      "text/plain": [
       "'Adjacent = 4.0'"
      ]
     },
     "execution_count": 11,
     "metadata": {},
     "output_type": "execute_result"
    }
   ],
   "source": [
    "pythagoras(3,'x',5)"
   ]
  },
  {
   "cell_type": "code",
   "execution_count": 12,
   "metadata": {},
   "outputs": [
    {
     "data": {
      "text/plain": [
       "'Opposite = 3.0'"
      ]
     },
     "execution_count": 12,
     "metadata": {},
     "output_type": "execute_result"
    }
   ],
   "source": [
    "pythagoras('x',4,5)"
   ]
  },
  {
   "cell_type": "markdown",
   "metadata": {},
   "source": [
    "#### 15. Write a python program to print the frequency of each of the characters present in a given string."
   ]
  },
  {
   "cell_type": "code",
   "execution_count": 13,
   "metadata": {},
   "outputs": [],
   "source": [
    "def frequency():\n",
    "    my_str = (input('Please Enter any my_str: '))\n",
    "    my_str = my_str.casefold()\n",
    "    unique = set(my_str)\n",
    "    length = len(my_str)\n",
    "    for i in unique:\n",
    "        count = 0\n",
    "        for x in range(length):\n",
    "                if i == my_str[x]:\n",
    "                    count = count + 1\n",
    "        print ('Frequency of charater {} is {}'.format(i,count))"
   ]
  },
  {
   "cell_type": "code",
   "execution_count": 14,
   "metadata": {},
   "outputs": [
    {
     "name": "stdout",
     "output_type": "stream",
     "text": [
      "Please Enter any my_str: The quick brown fox jumps over the lazy dog\n",
      "Frequency of charater q is 1\n",
      "Frequency of charater h is 2\n",
      "Frequency of charater z is 1\n",
      "Frequency of charater s is 1\n",
      "Frequency of charater o is 4\n",
      "Frequency of charater x is 1\n",
      "Frequency of charater y is 1\n",
      "Frequency of charater r is 2\n",
      "Frequency of charater w is 1\n",
      "Frequency of charater i is 1\n",
      "Frequency of charater g is 1\n",
      "Frequency of charater v is 1\n",
      "Frequency of charater   is 8\n",
      "Frequency of charater a is 1\n",
      "Frequency of charater m is 1\n",
      "Frequency of charater u is 2\n",
      "Frequency of charater e is 3\n",
      "Frequency of charater b is 1\n",
      "Frequency of charater l is 1\n",
      "Frequency of charater t is 2\n",
      "Frequency of charater c is 1\n",
      "Frequency of charater j is 1\n",
      "Frequency of charater p is 1\n",
      "Frequency of charater n is 1\n",
      "Frequency of charater d is 1\n",
      "Frequency of charater k is 1\n",
      "Frequency of charater f is 1\n"
     ]
    }
   ],
   "source": [
    "frequency()"
   ]
  },
  {
   "cell_type": "code",
   "execution_count": null,
   "metadata": {},
   "outputs": [],
   "source": []
  }
 ],
 "metadata": {
  "kernelspec": {
   "display_name": "Python 3",
   "language": "python",
   "name": "python3"
  },
  "language_info": {
   "codemirror_mode": {
    "name": "ipython",
    "version": 3
   },
   "file_extension": ".py",
   "mimetype": "text/x-python",
   "name": "python",
   "nbconvert_exporter": "python",
   "pygments_lexer": "ipython3",
   "version": "3.6.10"
  }
 },
 "nbformat": 4,
 "nbformat_minor": 4
}
