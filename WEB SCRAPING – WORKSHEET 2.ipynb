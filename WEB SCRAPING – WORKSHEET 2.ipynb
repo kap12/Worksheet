{
 "cells": [
  {
   "cell_type": "code",
   "execution_count": 1,
   "metadata": {},
   "outputs": [],
   "source": [
    "# importing required libraries for webscraping\n",
    "import os, requests\n",
    "import numpy as np\n",
    "import pandas as pd\n",
    "from selenium import webdriver as wd"
   ]
  },
  {
   "cell_type": "markdown",
   "metadata": {},
   "source": [
    "#### 14. Write a python program to scrap 10 images of Rayban Sunglasses from flipkart website and save them in a directory."
   ]
  },
  {
   "cell_type": "code",
   "execution_count": 2,
   "metadata": {},
   "outputs": [],
   "source": [
    "#Function for saving the image\n",
    "def save_images(data,dirname,page):\n",
    "    for index,link in enumerate(data['images']):\n",
    "        print('downloading {0} of {1} images'.format(index + 1, len(data['images'])))\n",
    "        response=requests.get(link)\n",
    "        with open('{0}/img_{1} {2}.jpg'.format(dirname,page,index),'wb') as file:\n",
    "            file.write(response.content)\n",
    "            \n",
    "#creating the directory\n",
    "target_folder = os.path.join('ray-ban')\n",
    "if not os.path.exists(target_folder):\n",
    "    os.makedirs(target_folder)\n",
    "    \n",
    "#Function for web scraping the images\n",
    "product={}\n",
    "product['images']=[]\n",
    "driver=wd.Chrome('chromedriver.exe')\n",
    "rayban=driver.get('https://www.flipkart.com/sunglasses/pr?p%5B%5D=facets.brand%255B%255D%3DRay-Ban&sid=26x&otracker=nmenu_sub_Men_0_Sunglasses&otracker=nmenu_sub_Men_0_Sunglasses&p%5B%5D=facets.ideal_for%255B%255D%3DMen&p%5B%5D=facets.ideal_for%255B%255D%3DMen%2B%2526%2BWomen')\n",
    "def scrap_images(driver):\n",
    "    images=driver.find_elements_by_xpath(\"//img[@class='_3togXc']\")\n",
    "    images=images[0:10]\n",
    "    for image in images:\n",
    "        source=image.get_attribute('src')\n",
    "        product['images'].append(source)\n",
    "    return product"
   ]
  },
  {
   "cell_type": "code",
   "execution_count": 3,
   "metadata": {
    "scrolled": true
   },
   "outputs": [
    {
     "name": "stdout",
     "output_type": "stream",
     "text": [
      "downloading 1 of 10 images\n",
      "downloading 2 of 10 images\n",
      "downloading 3 of 10 images\n",
      "downloading 4 of 10 images\n",
      "downloading 5 of 10 images\n",
      "downloading 6 of 10 images\n",
      "downloading 7 of 10 images\n",
      "downloading 8 of 10 images\n",
      "downloading 9 of 10 images\n",
      "downloading 10 of 10 images\n"
     ]
    }
   ],
   "source": [
    "#calling the functions\n",
    "pic=scrap_images(driver=driver)\n",
    "save_images(data=pic,dirname=target_folder,page=1)\n",
    "#closing the automated chrome windows\n",
    "driver.quit()"
   ]
  },
  {
   "cell_type": "markdown",
   "metadata": {},
   "source": [
    "#### 15.) Write a program to scrap 20 mouses’ data which includes model name, price from www.amazon.in whose price is less than 500 and make a data frame with 2 columns “model_name”,” price” with the scraped data.#### "
   ]
  },
  {
   "cell_type": "code",
   "execution_count": 4,
   "metadata": {},
   "outputs": [],
   "source": [
    "#Function for web scraping the Brand and price\n",
    "product_data={}\n",
    "product_data['Brand'] = []\n",
    "product_data['price'] = []\n",
    "driver=wd.Chrome('chromedriver.exe')\n",
    "Mouse=driver.get('https://www.amazon.in/s?k=mouse&rh=p_36%3A-50000&qid=1601140981&rnid=1318502031&ref=sr_nr_p_36_5')\n",
    "def scrap_data(driver):\n",
    "        \n",
    "    Brand=driver.find_elements_by_xpath(\"//span[@class='a-size-medium a-color-base a-text-normal']\")\n",
    "    for Brands in Brand:\n",
    "        product_data['Brand'].append(Brands.text)\n",
    "        \n",
    "    prices=driver.find_elements_by_xpath(\"//span[@class='a-price-whole']\")\n",
    "    for price in prices:\n",
    "        product_data['price'].append(price.text)\n",
    "    return product_data\n",
    "\n",
    "#Function for saving data in file\n",
    "def save_to_file(data,filename):\n",
    "    df = pd.DataFrame(data)\n",
    "    df.to_csv(filename,mode='a',encoding='utf-8-sig')"
   ]
  },
  {
   "cell_type": "code",
   "execution_count": 5,
   "metadata": {},
   "outputs": [
    {
     "name": "stdout",
     "output_type": "stream",
     "text": [
      "scrap pages...\n"
     ]
    }
   ],
   "source": [
    "#calling the functions\n",
    "page= np.arange(1,2,1)\n",
    "for i in page:\n",
    "    product_details = scrap_data(driver=driver)\n",
    "    print('scrap pages...')\n",
    "    save_to_file(data=product_details,filename='mice.csv')\n",
    "#closing the automated chrome windows\n",
    "driver.quit()"
   ]
  },
  {
   "cell_type": "code",
   "execution_count": 6,
   "metadata": {},
   "outputs": [
    {
     "data": {
      "text/html": [
       "<div>\n",
       "<style scoped>\n",
       "    .dataframe tbody tr th:only-of-type {\n",
       "        vertical-align: middle;\n",
       "    }\n",
       "\n",
       "    .dataframe tbody tr th {\n",
       "        vertical-align: top;\n",
       "    }\n",
       "\n",
       "    .dataframe thead th {\n",
       "        text-align: right;\n",
       "    }\n",
       "</style>\n",
       "<table border=\"1\" class=\"dataframe\">\n",
       "  <thead>\n",
       "    <tr style=\"text-align: right;\">\n",
       "      <th></th>\n",
       "      <th>brand</th>\n",
       "      <th>price</th>\n",
       "    </tr>\n",
       "  </thead>\n",
       "  <tbody>\n",
       "    <tr>\n",
       "      <th>0</th>\n",
       "      <td>Zinq Technologies ZQ233 Wired Mouse with 1000D...</td>\n",
       "      <td>199</td>\n",
       "    </tr>\n",
       "    <tr>\n",
       "      <th>1</th>\n",
       "      <td>Quantum QHM232 3-Button 1000DPI Wired Optical ...</td>\n",
       "      <td>222</td>\n",
       "    </tr>\n",
       "    <tr>\n",
       "      <th>2</th>\n",
       "      <td>Logitech M90 Wired USB Mouse, 1000 DPI Optical...</td>\n",
       "      <td>299</td>\n",
       "    </tr>\n",
       "    <tr>\n",
       "      <th>3</th>\n",
       "      <td>Lenovo 300 Wired USB Mouse, GX30M39704</td>\n",
       "      <td>299</td>\n",
       "    </tr>\n",
       "    <tr>\n",
       "      <th>4</th>\n",
       "      <td>Dell Ms116 275-BBCB Optical Mouse</td>\n",
       "      <td>349</td>\n",
       "    </tr>\n",
       "    <tr>\n",
       "      <th>5</th>\n",
       "      <td>IT2M Designer Mouse Pad for Laptop/Computer (9...</td>\n",
       "      <td>196</td>\n",
       "    </tr>\n",
       "    <tr>\n",
       "      <th>6</th>\n",
       "      <td>HP X1000 Wired Mouse (Black/Grey)</td>\n",
       "      <td>349</td>\n",
       "    </tr>\n",
       "    <tr>\n",
       "      <th>7</th>\n",
       "      <td>Zinq Technologies ZQ233 Wired Mouse with 1000D...</td>\n",
       "      <td>199</td>\n",
       "    </tr>\n",
       "    <tr>\n",
       "      <th>8</th>\n",
       "      <td>Dell MS116 1000DPI USB Wired Optical Mouse</td>\n",
       "      <td>405</td>\n",
       "    </tr>\n",
       "    <tr>\n",
       "      <th>9</th>\n",
       "      <td>Ant Esports GM200W Gaming Mouse Wired, 6 Progr...</td>\n",
       "      <td>449</td>\n",
       "    </tr>\n",
       "    <tr>\n",
       "      <th>10</th>\n",
       "      <td>Zebronics Zeb-Rise Wired USB Optical Mouse wit...</td>\n",
       "      <td>124</td>\n",
       "    </tr>\n",
       "    <tr>\n",
       "      <th>11</th>\n",
       "      <td>Zebronics Zeb-Comfort USB Optical Mouse</td>\n",
       "      <td>225</td>\n",
       "    </tr>\n",
       "    <tr>\n",
       "      <th>12</th>\n",
       "      <td>iBall Style 63 Optical Mouse (Black)</td>\n",
       "      <td>275</td>\n",
       "    </tr>\n",
       "    <tr>\n",
       "      <th>13</th>\n",
       "      <td>Portronics Toad 12 Wireless 2.4G Optical Mouse...</td>\n",
       "      <td>477</td>\n",
       "    </tr>\n",
       "    <tr>\n",
       "      <th>14</th>\n",
       "      <td>Zebronics Zeb-Comfort+ Wired Mouse</td>\n",
       "      <td>225</td>\n",
       "    </tr>\n",
       "    <tr>\n",
       "      <th>15</th>\n",
       "      <td>Foxin Wireless Optical Wheel Mouse with Nano R...</td>\n",
       "      <td>340</td>\n",
       "    </tr>\n",
       "    <tr>\n",
       "      <th>16</th>\n",
       "      <td>Quantum QHM222 3-Button 1000DPI Wired Optical ...</td>\n",
       "      <td>299</td>\n",
       "    </tr>\n",
       "    <tr>\n",
       "      <th>17</th>\n",
       "      <td>HP USB X500 Wired Optical Sensor Mouse 3 Butto...</td>\n",
       "      <td>429</td>\n",
       "    </tr>\n",
       "    <tr>\n",
       "      <th>18</th>\n",
       "      <td>HP Wired Mouse M10</td>\n",
       "      <td>338</td>\n",
       "    </tr>\n",
       "    <tr>\n",
       "      <th>19</th>\n",
       "      <td>Golden Feather Anti Skid Marvel Avengers Super...</td>\n",
       "      <td>189</td>\n",
       "    </tr>\n",
       "  </tbody>\n",
       "</table>\n",
       "</div>"
      ],
      "text/plain": [
       "                                                brand price\n",
       "0   Zinq Technologies ZQ233 Wired Mouse with 1000D...   199\n",
       "1   Quantum QHM232 3-Button 1000DPI Wired Optical ...   222\n",
       "2   Logitech M90 Wired USB Mouse, 1000 DPI Optical...   299\n",
       "3              Lenovo 300 Wired USB Mouse, GX30M39704   299\n",
       "4                   Dell Ms116 275-BBCB Optical Mouse   349\n",
       "5   IT2M Designer Mouse Pad for Laptop/Computer (9...   196\n",
       "6                   HP X1000 Wired Mouse (Black/Grey)   349\n",
       "7   Zinq Technologies ZQ233 Wired Mouse with 1000D...   199\n",
       "8          Dell MS116 1000DPI USB Wired Optical Mouse   405\n",
       "9   Ant Esports GM200W Gaming Mouse Wired, 6 Progr...   449\n",
       "10  Zebronics Zeb-Rise Wired USB Optical Mouse wit...   124\n",
       "11            Zebronics Zeb-Comfort USB Optical Mouse   225\n",
       "12               iBall Style 63 Optical Mouse (Black)   275\n",
       "13  Portronics Toad 12 Wireless 2.4G Optical Mouse...   477\n",
       "14                 Zebronics Zeb-Comfort+ Wired Mouse   225\n",
       "15  Foxin Wireless Optical Wheel Mouse with Nano R...   340\n",
       "16  Quantum QHM222 3-Button 1000DPI Wired Optical ...   299\n",
       "17  HP USB X500 Wired Optical Sensor Mouse 3 Butto...   429\n",
       "18                                 HP Wired Mouse M10   338\n",
       "19  Golden Feather Anti Skid Marvel Avengers Super...   189"
      ]
     },
     "execution_count": 6,
     "metadata": {},
     "output_type": "execute_result"
    }
   ],
   "source": [
    "#reading data and printing below\n",
    "df = pd.read_csv('mice.csv')\n",
    "df.drop('Unnamed: 0',inplace=True,axis=1)\n",
    "df.head(20)"
   ]
  }
 ],
 "metadata": {
  "kernelspec": {
   "display_name": "Python 3",
   "language": "python",
   "name": "python3"
  },
  "language_info": {
   "codemirror_mode": {
    "name": "ipython",
    "version": 3
   },
   "file_extension": ".py",
   "mimetype": "text/x-python",
   "name": "python",
   "nbconvert_exporter": "python",
   "pygments_lexer": "ipython3",
   "version": "3.6.10"
  }
 },
 "nbformat": 4,
 "nbformat_minor": 4
}
